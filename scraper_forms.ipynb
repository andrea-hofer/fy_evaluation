{
 "cells": [
  {
   "cell_type": "code",
   "execution_count": 103,
   "metadata": {
    "collapsed": true
   },
   "outputs": [],
   "source": [
    "# Import libaries\n",
    "from selenium import webdriver\n",
    "from selenium.webdriver.common.keys import Keys\n",
    "import time\n",
    "from selenium.webdriver.chrome.options import Options\n",
    "import os"
   ]
  },
  {
   "cell_type": "code",
   "execution_count": 104,
   "metadata": {},
   "outputs": [],
   "source": [
    "path = os.getcwd()"
   ]
  },
  {
   "cell_type": "code",
   "execution_count": 105,
   "metadata": {
    "collapsed": true
   },
   "outputs": [],
   "source": [
    "# Set chromedrivr options so that it saves the zip file in the current directory\n",
    "\n",
    "chromeOptions = webdriver.ChromeOptions()\n",
    "prefs = {\"download.default_directory\" : path}\n",
    "chromeOptions.add_experimental_option(\"prefs\", prefs)\n",
    "chromedriver = 'C:/webdrivers/chromedriver'\n",
    "driver = webdriver.Chrome(executable_path = chromedriver, chrome_options = chromeOptions)"
   ]
  },
  {
   "cell_type": "code",
   "execution_count": 106,
   "metadata": {},
   "outputs": [],
   "source": [
    "# Inputs\n",
    "url = 'https://docs.google.com/forms/'\n",
    "email = 'testpp4rs@gmail.com'\n",
    "password = 'fyevalpp4rs'\n",
    "\n",
    "### Login: \n",
    "\n",
    "#driver = webdriver.Chrome('C:/webdrivers/chromedriver')\n",
    "driver.get(url) \n",
    "\n",
    "\n",
    "inputmail = driver.find_element_by_xpath('//*[@id=\"identifierId\"]')\n",
    "inputmail.send_keys(email)\n",
    "\n",
    "time.sleep(2)\n",
    "\n",
    "driver.find_element_by_xpath('//*[@id=\"identifierNext\"]').click()\n",
    "\n",
    "# Put in pw and continue\n",
    "time.sleep(3)\n",
    "inputpw = driver.find_element_by_name('password')\n",
    "inputpw.send_keys(password)\n",
    "\n",
    "time.sleep(1)\n",
    "\n",
    "driver.find_element_by_xpath('//*[@id=\"passwordNext\"]').click()\n",
    "\n",
    "time.sleep(10)\n",
    "\n",
    "\n",
    "\n",
    "# Click form I want to open\n",
    "driver.find_element_by_xpath('//*[@class=\"docs-homescreen-grid-item-thumbnail\"]').click()\n",
    "\n",
    "time.sleep(10)\n",
    "\n",
    "# Click on answers\n",
    "driver.find_element_by_xpath('//*[@id=\"tJHJj\"]/div[3]/div[2]/div[1]/div[2]').click()\n",
    "time.sleep(10)\n",
    "\n",
    "# click on grey thing to open choice menu\n",
    "driver.find_element_by_xpath('//*[@id=\"ResponsesView\"]/div/div[1]/div[1]/div[2]/div[2]/div/div').click()\n",
    "time.sleep(7)\n",
    "\n",
    "\n",
    "# This works hurray! Find by string and class, note the quotation marks!\n",
    "driver.find_element_by_xpath(\"//*[@class = 'quantumWizMenuPapermenuMenuItemLabel' and contains (text(),'CSV')]\").click()\n",
    "\n"
   ]
  },
  {
   "cell_type": "code",
   "execution_count": 107,
   "metadata": {},
   "outputs": [],
   "source": [
    "# Extract zipfile into current working directory as csv file to be read into R. \n",
    "\n",
    "import zipfile\n",
    "\n",
    "stored_path = os.getcwd() + \"\\\\First_Year_evaluation.csv.zip\"\n",
    "\n",
    "zip_ref = zipfile.ZipFile(stored_path, 'r')\n",
    "zip_ref.extractall(path)\n",
    "zip_ref.close()"
   ]
  }
 ],
 "metadata": {
  "kernelspec": {
   "display_name": "Python 3",
   "language": "python",
   "name": "python3"
  },
  "language_info": {
   "codemirror_mode": {
    "name": "ipython",
    "version": 3
   },
   "file_extension": ".py",
   "mimetype": "text/x-python",
   "name": "python",
   "nbconvert_exporter": "python",
   "pygments_lexer": "ipython3",
   "version": "3.6.1"
  }
 },
 "nbformat": 4,
 "nbformat_minor": 2
}
