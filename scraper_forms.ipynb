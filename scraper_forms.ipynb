{
 "cells": [
  {
   "cell_type": "code",
   "execution_count": 59,
   "metadata": {
    "collapsed": true
   },
   "outputs": [],
   "source": [
    "# Import libaries\n",
    "from selenium import webdriver\n",
    "from selenium.webdriver.common.keys import Keys\n",
    "import time\n",
    "from selenium.webdriver.chrome.options import Options\n",
    "import os"
   ]
  },
  {
   "cell_type": "code",
   "execution_count": 66,
   "metadata": {},
   "outputs": [],
   "source": [
    "path = os.getcwd()\n",
    "\n",
    "# Creat input and output folder in current directory\n",
    "\n",
    "input_path = path + '\\\\input'\n",
    "output_path = path + '\\\\output'\n",
    "\n",
    "\n",
    "# Make an input directory if it does not already exist in order to store the data from the scraper\n",
    "if not os.path.exists(input_path):\n",
    "    os.makedirs(input_path)\n",
    "\n",
    "# Make an output path \n",
    "\n",
    "if not os.path.exists(output_path):\n",
    "    os.makedirs(output_path)\n",
    "\n"
   ]
  },
  {
   "cell_type": "code",
   "execution_count": 61,
   "metadata": {
    "collapsed": true
   },
   "outputs": [],
   "source": [
    "# Set chromedriver options so that it saves the zip file in the current directory\n",
    "\n",
    "chromeOptions = webdriver.ChromeOptions()\n",
    "prefs = {\"download.default_directory\" : input_path}\n",
    "chromeOptions.add_experimental_option(\"prefs\", prefs)\n",
    "chromedriver = 'C:/webdrivers/chromedriver'\n",
    "driver = webdriver.Chrome(executable_path = chromedriver, chrome_options = chromeOptions)"
   ]
  },
  {
   "cell_type": "code",
   "execution_count": 62,
   "metadata": {
    "scrolled": true
   },
   "outputs": [],
   "source": [
    "# Inputs\n",
    "url = 'https://docs.google.com/forms/'\n",
    "email = 'testpp4rs@gmail.com'\n",
    "password = 'fyevalpp4rs'\n",
    "\n",
    "### Login: \n",
    "\n",
    "#driver = webdriver.Chrome('C:/webdrivers/chromedriver')\n",
    "driver.get(url) \n",
    "\n",
    "\n",
    "inputmail = driver.find_element_by_xpath('//*[@id=\"identifierId\"]')\n",
    "inputmail.send_keys(email)\n",
    "\n",
    "time.sleep(10)\n",
    "\n",
    "driver.find_element_by_xpath('//*[@id=\"identifierNext\"]').click()\n",
    "\n",
    "# Put in pw and continue\n",
    "time.sleep(10)\n",
    "inputpw = driver.find_element_by_name('password')\n",
    "inputpw.send_keys(password)\n",
    "\n",
    "time.sleep(10)\n",
    "\n",
    "driver.find_element_by_xpath('//*[@id=\"passwordNext\"]').click()\n",
    "\n",
    "time.sleep(10)\n",
    "\n",
    "\n",
    "\n",
    "# Click form I want to open\n",
    "driver.find_element_by_xpath('//*[@class=\"docs-homescreen-grid-item-thumbnail\"]').click()\n",
    "\n",
    "time.sleep(10)\n",
    "\n",
    "# Click on answers\n",
    "driver.find_element_by_xpath('//*[@id=\"tJHJj\"]/div[3]/div[2]/div[1]/div[2]').click()\n",
    "time.sleep(10)\n",
    "\n",
    "\n"
   ]
  },
  {
   "cell_type": "code",
   "execution_count": 63,
   "metadata": {
    "collapsed": true
   },
   "outputs": [],
   "source": [
    "# click on grey thing to open choice menu\n",
    "driver.find_element_by_xpath('//*[@id=\"ResponsesView\"]/div/div[1]/div[1]/div[2]/div[2]/div/div').click()\n",
    "time.sleep(15)\n",
    "\n",
    "\n",
    "# Find by string and class, note the quotation marks!\n",
    "driver.find_element_by_xpath(\"//*[@class = 'quantumWizMenuPapermenuMenuItemLabel' and contains (text(),'CSV')]\").click()\n"
   ]
  },
  {
   "cell_type": "code",
   "execution_count": 64,
   "metadata": {
    "scrolled": true
   },
   "outputs": [],
   "source": [
    "# Extract zipfile into current working directory as csv file to be read into R. \n",
    "\n",
    "import zipfile\n",
    "\n",
    "stored_path = input_path + \"\\\\First Year evaluation.csv.zip\"\n",
    "\n",
    "zip_ref = zipfile.ZipFile(stored_path, 'r')\n",
    "zip_ref.extractall(input_path)\n",
    "zip_ref.close()"
   ]
  },
  {
   "cell_type": "code",
   "execution_count": null,
   "metadata": {
    "collapsed": true
   },
   "outputs": [],
   "source": []
  }
 ],
 "metadata": {
  "kernelspec": {
   "display_name": "Python 3",
   "language": "python",
   "name": "python3"
  },
  "language_info": {
   "codemirror_mode": {
    "name": "ipython",
    "version": 3
   },
   "file_extension": ".py",
   "mimetype": "text/x-python",
   "name": "python",
   "nbconvert_exporter": "python",
   "pygments_lexer": "ipython3",
   "version": "3.6.1"
  }
 },
 "nbformat": 4,
 "nbformat_minor": 2
}
